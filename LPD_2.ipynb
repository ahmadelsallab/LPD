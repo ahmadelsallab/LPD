{
 "cells": [
  {
   "cell_type": "markdown",
   "metadata": {},
   "source": [
    "# License Plate Detection with OpenCV\n",
    "\n",
    "In this project we demonstrate how to use OpenCV only, with traditional computer vision approaches, to perform License Plate Detection (LPD). \n",
    "\n",
    "We follow two approaches:\n",
    "\n",
    "1- __Morphology based approach__: where only morphological transforms are used, along with some rules to detect the LP.\n",
    "\n",
    "2- __Charater based approach__: in addition to basic morphological approaches, basic char detection, also based on morphology, is used as an extra characteristic of the LP.\n",
    "\n",
    "Further, the problem of Licence Plate Recognition (LPR), by recognizing the number and digits written, can be addressed by the second approach.\n",
    "\n",
    "In both approaches, we load HD videos (1080p). Due to the camera position, this is the most effective resolution to detect LP patterns.\n",
    "\n",
    "In both approaches we merge car detection, using background subtraction, to narrow the search space."
   ]
  },
  {
   "cell_type": "code",
   "execution_count": 1,
   "metadata": {},
   "outputs": [],
   "source": [
    "\n",
    "import numpy as np\n",
    "import cv2\n",
    "import imutils\n",
    "import os\n",
    "from tqdm import tqdm\n",
    "import matplotlib.pyplot as plt\n",
    "\n"
   ]
  },
  {
   "cell_type": "code",
   "execution_count": 2,
   "metadata": {},
   "outputs": [],
   "source": [
    "# Project constants\n",
    "SCALAR_BLACK = (0.0, 0.0, 0.0)\n",
    "SCALAR_WHITE = (255.0, 255.0, 255.0)\n",
    "SCALAR_YELLOW = (0.0, 255.0, 255.0)\n",
    "SCALAR_GREEN = (0.0, 255.0, 0.0)\n",
    "SCALAR_RED = (0.0, 0.0, 255.0)"
   ]
  },
  {
   "cell_type": "code",
   "execution_count": 3,
   "metadata": {},
   "outputs": [],
   "source": [
    "# Helper functions\n",
    "\n",
    "def plot_img(img):\n",
    "    plt.imshow(cv2.cvtColor(img, cv2.COLOR_BGR2RGB))\n",
    "    plt.show()\n",
    "\n",
    "def draw_oriented_bbox(frame, bbox):\n",
    "    # Oriented\n",
    "    rotrect = cv2.minAreaRect(bbox)\n",
    "    center, size, theta = rotrect\n",
    "    box = cv2.boxPoints(rotrect)\n",
    "    box = np.int0(box)\n",
    "    cv2.drawContours(frame, [box], 0, SCALAR_RED, 10)"
   ]
  },
  {
   "cell_type": "markdown",
   "metadata": {},
   "source": [
    "# Moving object detection (MOD)\n",
    "\n",
    "In this part, we show how to detect and isolate the car box. \n",
    "\n",
    "We use background subtraction. [See this reference](https://www.pyimagesearch.com/2015/05/25/basic-motion-detection-and-tracking-with-python-and-opencv/). This is possible due to the fixed camera position.\n",
    "\n",
    "We can detect bounding rectangle or oriented one. The oriented bbox is not very accurate, and later it turns to be not important for LPD."
   ]
  },
  {
   "cell_type": "code",
   "execution_count": 4,
   "metadata": {},
   "outputs": [],
   "source": [
    "\n",
    "def detect_cars(frame, background):\n",
    "    MIN_AREA = 10000\n",
    "    cars = []\n",
    "    gray = cv2.cvtColor(frame, cv2.COLOR_BGR2GRAY)\n",
    "    gray = cv2.GaussianBlur(gray, (21, 21), 0)\n",
    "    # compute the absolute difference between the current frame and\n",
    "    # first frame\n",
    "    frame_delta = cv2.absdiff(background, gray)\n",
    "    thresh = cv2.threshold(frame_delta, 25, 255, cv2.THRESH_BINARY)[1]\n",
    "    # dilate the thresholded image to fill in holes, then find contours\n",
    "    # on thresholded image\n",
    "    thresh = cv2.dilate(thresh, None, iterations=2)\n",
    "    cnts = cv2.findContours(thresh.copy(), cv2.RETR_EXTERNAL, cv2.CHAIN_APPROX_SIMPLE)\n",
    "    cnts = imutils.grab_contours(cnts)\n",
    "    # loop over the contours\n",
    "    for k,c in enumerate(cnts):\n",
    "        # if the contour is too small, ignore it\n",
    "        if cv2.contourArea(c) < MIN_AREA:\n",
    "            continue\n",
    "        car = cv2.boundingRect(c)\n",
    "        cars.append(car)\n",
    "    return cars"
   ]
  },
  {
   "cell_type": "markdown",
   "metadata": {},
   "source": [
    "## Video processing\n",
    "The `process_video` function takes car of frame processing of the given `video_file`. The output is saved in the location of the output `video_output_file`.\n",
    "\n",
    "This function can be used to:\n",
    "- Detect Moving cars.\n",
    "- Detect LPs within car frames, and plot it back in the original frame.\n",
    "- Detect LPs in the big frame directly."
   ]
  },
  {
   "cell_type": "code",
   "execution_count": 5,
   "metadata": {},
   "outputs": [],
   "source": [
    "def make_1080p(cap):\n",
    "    cap.set(3, 1920)\n",
    "    cap.set(4, 1080)\n",
    "\n",
    "def make_720p(cap):\n",
    "    cap.set(3, 1280)\n",
    "    cap.set(4, 720)\n",
    "\n",
    "def make_480p(cap):\n",
    "    cap.set(3, 640)\n",
    "    cap.set(4, 480)\n",
    "\n",
    "def change_res(width, height):\n",
    "    cap.set(3, width)\n",
    "    cap.set(4, height)\n",
    "\n",
    "\n",
    "def process_video(video_file, # The video path to be processed\n",
    "                  video_output_file, # The output video file\n",
    "                  output_video_resolution=(640,480), # The desired output resolution\n",
    "                  frames_cnt=None, # The desired number of frames to process. If None the whole video is processed.\n",
    "                  cars_detection=True, # LPD will work on the car cropped image or whole image.\n",
    "                  show_cars_bbox=0,# 0=dont show, 1: show rect, 2: show oriented bbox.\n",
    "                  detect_LP_fn=None, # The LPD function.\n",
    "                  debug=False):\n",
    "\n",
    "    \t\n",
    "\n",
    "    # Set input capture to 1080p\n",
    "    cap = cv2.VideoCapture(video_file)\n",
    "    make_1080p(cap)\n",
    "    \n",
    "    # Set the frame count if no passed desired number process the whole video\n",
    "    if frames_cnt == None: frames_cnt = int(cap.get(cv2.CAP_PROP_FRAME_COUNT))\n",
    "\n",
    "    # Prepare the output video file\n",
    "    fourcc = cv2.VideoWriter_fourcc(*'MJPG')\n",
    "    out = cv2.VideoWriter(video_output_file,fourcc, 20.0, output_video_resolution)\n",
    "\n",
    "    # The min detectable car is a 100x100 rectangle\n",
    "    MIN_AREA = 10000\n",
    "    \n",
    "    # Set the back ground frame to nothing\n",
    "    background = None\n",
    "\n",
    "\n",
    "    for cnt in tqdm(range(frames_cnt), position=0, leave=True):\n",
    "\n",
    "        ret, frame = cap.read() \n",
    "\n",
    "        if ret:\n",
    "            if cars_detection:\n",
    "\n",
    "                if background is None:\n",
    "                    gray = cv2.cvtColor(frame, cv2.COLOR_BGR2GRAY)\n",
    "                    gray = cv2.GaussianBlur(gray, (21, 21), 0)\n",
    "                    # if the first frame is None, initialize it\n",
    "                    background = gray\n",
    "                    continue\n",
    "                    \n",
    "                cars = detect_cars(frame, background)\n",
    "                for car in cars:\n",
    "                    \n",
    "                    (x, y, w, h) = car\n",
    "                    car = frame[y:y+h,x:x+w,:]\n",
    "                    if debug: print('Car size', car.shape)                        \n",
    "                    if detect_LP_fn != None:\n",
    "                        # Pass the cropped car image to LPD\n",
    "                        car_LP, LPs = detect_LP(car)\n",
    "                        # Put back the LP patch in the original frame\n",
    "                        frame[y:y+h,x:x+w,:] = car_LP\n",
    "\n",
    "                    if show_cars_bbox == 1: # Just rectangle\n",
    "                        cv2.rectangle(frame, (x, y), (x + w, y + h), SCALAR_RED, 10)\n",
    "                    elif show_cars_bbox == 2: # Oriented rectangle\n",
    "                        draw_oriented_bbox(frame, c)\n",
    "            \n",
    "            elif detect_LP_fn != None:\n",
    "                frame, LPs = detect_LP_fn(frame)\n",
    "                \n",
    "\n",
    "            if debug: plot_img(frame)\n",
    "            out.write(cv2.resize(frame, output_video_resolution))\n",
    "        else:\n",
    "            print('no video')\n",
    "            cap.set(cv2.CAP_PROP_POS_FRAMES, 0)\n",
    "        \n",
    "\n",
    "    cap.release()\n",
    "    out.release()\n",
    "    print('Video is ready at: ', video_output_file)"
   ]
  },
  {
   "cell_type": "code",
   "execution_count": 6,
   "metadata": {},
   "outputs": [
    {
     "name": "stderr",
     "output_type": "stream",
     "text": [
      "100%|██████████| 2171/2171 [01:02<00:00, 34.62it/s]"
     ]
    },
    {
     "name": "stdout",
     "output_type": "stream",
     "text": [
      "Video is ready at:  dat/cars_detection.mp4\n"
     ]
    },
    {
     "name": "stderr",
     "output_type": "stream",
     "text": [
      "\n"
     ]
    }
   ],
   "source": [
    "video_file = 'dat/detection_test.mp4'\n",
    "video_output_file = 'dat/cars_detection.mp4'\n",
    "process_video(video_file, video_output_file, show_cars_bbox=1)"
   ]
  },
  {
   "cell_type": "markdown",
   "metadata": {},
   "source": [
    "# Morphology based approach"
   ]
  },
  {
   "cell_type": "markdown",
   "metadata": {},
   "source": [
    "# Character based approach\n",
    "\n",
    "The main approach "
   ]
  },
  {
   "cell_type": "code",
   "execution_count": null,
   "metadata": {},
   "outputs": [],
   "source": []
  },
  {
   "cell_type": "markdown",
   "metadata": {},
   "source": [
    "# Video production\n",
    "\n",
    "## Morphology test\n",
    "\n",
    "## Char based test\n",
    "\n",
    "## Showing the effect of MOD\n",
    "### With MOD\n",
    "\n",
    "### Withoud MOD"
   ]
  },
  {
   "cell_type": "markdown",
   "metadata": {},
   "source": [
    "# References:\n",
    "- https://www.pyimagesearch.com/2015/05/25/basic-motion-detection-and-tracking-with-python-and-opencv/\n",
    "- https://sod.pixlab.io/articles/license-plate-detection.html\n",
    "- https://github.com/MicrocontrollersAndMore/OpenCV_3_License_Plate_Recognition_Python.git"
   ]
  }
 ],
 "metadata": {
  "kernelspec": {
   "display_name": "Python 3",
   "language": "python",
   "name": "python3"
  },
  "language_info": {
   "codemirror_mode": {
    "name": "ipython",
    "version": 3
   },
   "file_extension": ".py",
   "mimetype": "text/x-python",
   "name": "python",
   "nbconvert_exporter": "python",
   "pygments_lexer": "ipython3",
   "version": "3.7.4"
  }
 },
 "nbformat": 4,
 "nbformat_minor": 4
}
