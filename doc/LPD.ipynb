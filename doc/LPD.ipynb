{
 "cells": [
  {
   "cell_type": "markdown",
   "metadata": {},
   "source": [
    "# License Plate Detection with OpenCV\n",
    "\n",
    "In this project we demonstrate how to use OpenCV only, with traditional computer vision approaches, to perform License Plate Detection (LPD). \n",
    "\n",
    "We follow two approaches:\n",
    "\n",
    "1- __Morphology based approach__: where only morphological transforms are used, along with some rules to detect the LP.\n",
    "\n",
    "2- __Charater based approach__: in addition to basic morphological approaches, basic char detection, also based on morphology, is used as an extra characteristic of the LP.\n",
    "\n",
    "Further, the problem of Licence Plate Recognition (LPR), by recognizing the number and digits written, can be addressed by the second approach.\n",
    "\n",
    "In both approaches, we load HD videos (1080p). Due to the camera position, this is the most effective resolution to detect LP patterns.\n",
    "\n",
    "In both approaches we merge car detection, using background subtraction, to narrow the search space."
   ]
  },
  {
   "cell_type": "markdown",
   "metadata": {},
   "source": [
    "# Pre-requisites\n",
    "\n",
    "You need to install the packages in `requirements.txt`:\n",
    "    \n",
    "`pip install -r requirements.txt`"
   ]
  },
  {
   "cell_type": "code",
   "execution_count": 12,
   "metadata": {},
   "outputs": [],
   "source": [
    "from utils import *\n",
    "from mod import detect_moving_objects\n",
    "import numpy as np\n",
    "import cv2\n",
    "import imutils\n",
    "import os\n",
    "from tqdm import tqdm\n",
    "import matplotlib.pyplot as plt\n",
    "from video import process_video\n"
   ]
  },
  {
   "cell_type": "markdown",
   "metadata": {},
   "source": [
    "# Moving object detection (MOD)\n",
    "\n",
    "In this part, we show how to detect and isolate the car box. \n",
    "\n",
    "We use background subtraction. [See this reference](https://www.pyimagesearch.com/2015/05/25/basic-motion-detection-and-tracking-with-python-and-opencv/). This is possible due to the fixed camera position.\n",
    "\n",
    "We can detect bounding rectangle or oriented one. The oriented bbox is not very accurate, and later it turns to be not important for LPD."
   ]
  },
  {
   "cell_type": "markdown",
   "metadata": {},
   "source": [
    "## Video processing\n",
    "The `process_video` function takes car of frame processing of the given `video_file`. The output is saved in the location of the output `video_output_file`.\n",
    "\n",
    "This function can be used to:\n",
    "- Detect Moving cars.\n",
    "- Detect LPs within car frames, and plot it back in the original frame.\n",
    "- Detect LPs in the big frame directly."
   ]
  },
  {
   "cell_type": "code",
   "execution_count": 13,
   "metadata": {},
   "outputs": [
    {
     "name": "stderr",
     "output_type": "stream",
     "text": [
      "100%|██████████| 2171/2171 [01:01<00:00, 35.13it/s]"
     ]
    },
    {
     "name": "stdout",
     "output_type": "stream",
     "text": [
      "Video is ready at:  dat/cars_detection.mp4\n"
     ]
    },
    {
     "name": "stderr",
     "output_type": "stream",
     "text": [
      "\n"
     ]
    }
   ],
   "source": [
    "from video import process_video\n",
    "video_file = 'dat/detection_test.mp4'\n",
    "video_output_file = 'dat/cars_detection.mp4'\n",
    "process_video(video_file, video_output_file, show_cars_bbox=1)"
   ]
  },
  {
   "cell_type": "markdown",
   "metadata": {},
   "source": [
    "From command line"
   ]
  },
  {
   "cell_type": "code",
   "execution_count": null,
   "metadata": {},
   "outputs": [],
   "source": [
    "!python main.py --video_file dat/detection_test.mp4 --video_output_file dat/cars_detection.mp4 --show_cars_bbox 1"
   ]
  },
  {
   "cell_type": "markdown",
   "metadata": {},
   "source": [
    "# Morphology based approach\n",
    "\n",
    "This approach is based on applying morphological operations to emphasasize the LP pattern. Mainly, two main patters:\n",
    "- Edge of bright area\n",
    "- Rectangular shape\n",
    "\n",
    "As usual with rule based approaches, we suffer sensitivity to parameters settings. To make it less critical we perform two simple tricks:\n",
    "- Apply the rules only on the car patches, thanks to the car detection step.\n",
    "- Resize into standard size makes it easier to set global rules, with less sensitivity to scale. This is also possible thanks to the car detection step.\n",
    "\n",
    "In this approach we follow the following steps:\n",
    "\n",
    "- Resize frame to standard size.\n",
    "- Transform frame into gray scale.\n",
    "- Adaptive thresholding.\n",
    "- Canny edge detection.\n",
    "- Dilation loop (3 iteration, 3x3 kernel).\n",
    "- Contours on dialted image.\n",
    "- Get candidate plates by fitting oriented bbox around contours.\n",
    "- Filter the candidate LPs with rules on L,W of the oriented bbox. \n",
    "- Resize the frame back into the original size\n",
    "\n"
   ]
  },
  {
   "cell_type": "code",
   "execution_count": null,
   "metadata": {},
   "outputs": [],
   "source": [
    "from morpho import detect_LP"
   ]
  },
  {
   "cell_type": "code",
   "execution_count": null,
   "metadata": {},
   "outputs": [],
   "source": [
    "img  = cv2.imread(\"imgs/char_frame_180_car_no_lp1.png\")\n",
    "plot_img(img)\n",
    "detected_img, LPs = detect_LP(img, debug=False)\n",
    "plot_img(detected_img)"
   ]
  },
  {
   "cell_type": "markdown",
   "metadata": {},
   "source": [
    "## Calibrating the rules\n",
    "In this section we use sample images captured from the test video in order to calibrate the min and max L and W of the plate detection.\n",
    "\n",
    "We set `debug=True` in order to see the intermediate results (thresholding, edges, dilation)."
   ]
  },
  {
   "cell_type": "code",
   "execution_count": null,
   "metadata": {},
   "outputs": [],
   "source": [
    "from morpho import detect_LP_morpho\n",
    "img  = cv2.imread(\"imgs/char_frame_180_car_no_lp1.png\")\n",
    "plot_img(img)\n",
    "detected_img, LPs = detect_LP_morpho(cv2.resize(img, (500,500)), L_min=35, L_max=60, W_min=55, W_max=90, debug=True)\n",
    "plot_img(detected_img)"
   ]
  },
  {
   "cell_type": "code",
   "execution_count": null,
   "metadata": {},
   "outputs": [],
   "source": [
    "video_file = 'dat/detection_test.mp4'\n",
    "video_output_file = 'dat/morpho_LP_detection.mp4'\n",
    "process_video(video_file, video_output_file, detect_LP_fn=detect_LP)"
   ]
  },
  {
   "cell_type": "markdown",
   "metadata": {},
   "source": [
    "From command line:"
   ]
  },
  {
   "cell_type": "code",
   "execution_count": null,
   "metadata": {},
   "outputs": [],
   "source": [
    "!python main.py --video_file dat/detection_test.mp4 --video_output_file dat/cars_detection.mp4 --detect_LP_fn 2"
   ]
  },
  {
   "cell_type": "markdown",
   "metadata": {},
   "source": [
    "We notice the following problems:\n",
    "- Many false positives\n",
    "- Rules apply to disoriented false contours\n",
    "- Aggeessive dilation make bigger rectangles in some cases\n",
    "\n",
    "\n",
    "It is recommended:\n",
    "- Integrate a tracker to smooth the false positives (TBD).\n",
    "- Add more features of LP, like characters, which we will do next."
   ]
  },
  {
   "cell_type": "markdown",
   "metadata": {},
   "source": [
    "# Character based approach\n",
    "\n",
    "The main approach in this part is imported from this nice git [repo](https://github.com/MicrocontrollersAndMore/OpenCV_3_License_Plate_Recognition_Python.git) Code is copied here just for self contained repo, with minor changes.\n",
    "\n",
    "\n",
    "The approach shares the same preprocessing steps as in the morphological approach above.\n",
    "\n",
    "However, we integrate extra features, which is char detection. This facilitates the filtering out operation, instead of only relying on the L, W rules.\n",
    "\n",
    "The downside is that, we now depend on the language of the sign. For different languages, we need different char detector, which is not a bi issue."
   ]
  },
  {
   "cell_type": "code",
   "execution_count": null,
   "metadata": {},
   "outputs": [],
   "source": [
    "from char import detect_LP_char"
   ]
  },
  {
   "cell_type": "code",
   "execution_count": null,
   "metadata": {},
   "outputs": [],
   "source": [
    "img  = cv2.imread(\"imgs/char_frame_180_car_no_lp1.png\")\n",
    "plot_img(img)\n",
    "detected_img, LPs = detect_LP_char(cv2.resize(img, (700,700)),  L_min=0, L_max=50, W_min=0, W_max=150, debug=True)\n",
    "plot_img(detected_img)"
   ]
  },
  {
   "cell_type": "code",
   "execution_count": null,
   "metadata": {},
   "outputs": [],
   "source": [
    "from char import detect_LP"
   ]
  },
  {
   "cell_type": "code",
   "execution_count": null,
   "metadata": {},
   "outputs": [],
   "source": [
    "video_file = 'dat/detection_test.mp4'\n",
    "video_output_file = 'dat/char_LP_detection.mp4'\n",
    "process_video(video_file, video_output_file, detect_LP_fn=detect_LP)"
   ]
  },
  {
   "cell_type": "markdown",
   "metadata": {},
   "source": [
    "From command line:"
   ]
  },
  {
   "cell_type": "code",
   "execution_count": null,
   "metadata": {},
   "outputs": [],
   "source": [
    "!python main.py --video_file dat/detection_test.mp4 --video_output_file dat/cars_detection.mp4 --detect_LP_fn 1"
   ]
  },
  {
   "cell_type": "markdown",
   "metadata": {},
   "source": [
    "The effect of adding the characters detection feature is clear in filtering out false positive."
   ]
  },
  {
   "cell_type": "markdown",
   "metadata": {},
   "source": [
    "# Effect of MOD\n",
    "Now we will run the same approach, but on the whole frame, instead of detecting the car first"
   ]
  },
  {
   "cell_type": "code",
   "execution_count": null,
   "metadata": {},
   "outputs": [],
   "source": [
    "video_file = 'dat/detection_test.mp4'\n",
    "video_output_file = 'dat/char_LP_detection_without_car_detection.mp4'\n",
    "process_video(video_file, video_output_file, detect_LP_fn=detect_LP, cars_detection=False)"
   ]
  },
  {
   "cell_type": "code",
   "execution_count": null,
   "metadata": {},
   "outputs": [],
   "source": [
    "!python main.py --video_file dat/detection_test.mp4 --video_output_file dat/cars_detection.mp4 --detect_LP_fn 1 --cars_detection False"
   ]
  },
  {
   "cell_type": "markdown",
   "metadata": {},
   "source": [
    "Again, lots of false positives detected. This shows the effect of detecting the moving cars as a preprocessing step.\n",
    "\n",
    "In the final video, you might now see any detected plates, since they are all filtered out by the internal rules."
   ]
  },
  {
   "cell_type": "markdown",
   "metadata": {},
   "source": [
    "# Conclusion\n",
    "\n",
    "In this project we used native OpenCV, with traditional CV transformations, to detect the license plates. Morphological operations can do the job, however, it requires tuning, and is sensitive to calibration. Adding some features like characters matching improves the performance, however, it might require tuning on different languages."
   ]
  },
  {
   "cell_type": "markdown",
   "metadata": {},
   "source": [
    "# References\n",
    "- https://www.pyimagesearch.com/2015/05/25/basic-motion-detection-and-tracking-with-python-and-opencv/\n",
    "- https://sod.pixlab.io/articles/license-plate-detection.html\n",
    "- https://github.com/MicrocontrollersAndMore/OpenCV_3_License_Plate_Recognition_Python.git"
   ]
  }
 ],
 "metadata": {
  "kernelspec": {
   "display_name": "Python 3",
   "language": "python",
   "name": "python3"
  },
  "language_info": {
   "codemirror_mode": {
    "name": "ipython",
    "version": 3
   },
   "file_extension": ".py",
   "mimetype": "text/x-python",
   "name": "python",
   "nbconvert_exporter": "python",
   "pygments_lexer": "ipython3",
   "version": "3.7.4"
  }
 },
 "nbformat": 4,
 "nbformat_minor": 4
}
